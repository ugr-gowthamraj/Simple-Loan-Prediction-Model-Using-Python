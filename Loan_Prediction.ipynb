{
  "nbformat": 4,
  "nbformat_minor": 0,
  "metadata": {
    "colab": {
      "name": "Loan Prediction.ipynb",
      "provenance": [],
      "authorship_tag": "ABX9TyOL6wiJqJXd/D732z65hnmD",
      "include_colab_link": true
    },
    "kernelspec": {
      "name": "python3",
      "display_name": "Python 3"
    }
  },
  "cells": [
    {
      "cell_type": "markdown",
      "metadata": {
        "id": "view-in-github",
        "colab_type": "text"
      },
      "source": [
        "<a href=\"https://colab.research.google.com/github/ugr-gowthamraj/Simple-Loan-Prediction-Model-Using-Python/blob/main/Loan_Prediction.ipynb\" target=\"_parent\"><img src=\"https://colab.research.google.com/assets/colab-badge.svg\" alt=\"Open In Colab\"/></a>"
      ]
    },
    {
      "cell_type": "markdown",
      "metadata": {
        "id": "gR-_K5tp1zXy"
      },
      "source": [
        "#Importing all the required libraries"
      ]
    },
    {
      "cell_type": "code",
      "metadata": {
        "id": "r6M_mBpe1tZ-"
      },
      "source": [
        "import matplotlib.pyplot as plt                                                 #for visualization\r\n",
        "import numpy as np                                                              #for arrays\r\n",
        "import pandas as pd                                                             #for dataframe\r\n",
        "from sklearn.linear_model import LogisticRegression                             #for logistic regression model\r\n",
        "from sklearn.linear_model import LinearRegression                               #for linear regression model\r\n",
        "from sklearn.metrics import classification_report, confusion_matrix             #for getting report and confusion matrix\r\n",
        "from google.colab import files                                                  #for uploading files to colab\r\n",
        "import io                                                                       #for uploading files to colab\r\n",
        "#from sklearn import preprocessing                                               #for normalization if needed"
      ],
      "execution_count": 1,
      "outputs": []
    },
    {
      "cell_type": "markdown",
      "metadata": {
        "id": "EYmeEou_3VXW"
      },
      "source": [
        "#Uploading the dataset and storing it in the dataframe"
      ]
    },
    {
      "cell_type": "code",
      "metadata": {
        "colab": {
          "resources": {
            "http://localhost:8080/nbextensions/google.colab/files.js": {
              "data": "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",
              "ok": true,
              "headers": [
                [
                  "content-type",
                  "application/javascript"
                ]
              ],
              "status": 200,
              "status_text": "OK"
            }
          },
          "base_uri": "https://localhost:8080/",
          "height": 75
        },
        "id": "zp8y6ol63b1f",
        "outputId": "a97c0758-6f6d-4cd5-f409-448079ec5ee7"
      },
      "source": [
        "uploaded = files.upload()"
      ],
      "execution_count": 2,
      "outputs": [
        {
          "output_type": "display_data",
          "data": {
            "text/html": [
              "\n",
              "     <input type=\"file\" id=\"files-d890a635-cb40-4e52-a2e4-1600cdc68178\" name=\"files[]\" multiple disabled\n",
              "        style=\"border:none\" />\n",
              "     <output id=\"result-d890a635-cb40-4e52-a2e4-1600cdc68178\">\n",
              "      Upload widget is only available when the cell has been executed in the\n",
              "      current browser session. Please rerun this cell to enable.\n",
              "      </output>\n",
              "      <script src=\"/nbextensions/google.colab/files.js\"></script> "
            ],
            "text/plain": [
              "<IPython.core.display.HTML object>"
            ]
          },
          "metadata": {
            "tags": []
          }
        },
        {
          "output_type": "stream",
          "text": [
            "Saving Loan prediction dataset.csv to Loan prediction dataset.csv\n"
          ],
          "name": "stdout"
        }
      ]
    },
    {
      "cell_type": "code",
      "metadata": {
        "colab": {
          "base_uri": "https://localhost:8080/"
        },
        "id": "mDLjcoeE36-a",
        "outputId": "7789b7c5-7449-49e5-cdef-37a0c906b6b4"
      },
      "source": [
        "dataset = pd.read_csv(io.BytesIO(uploaded['Loan prediction dataset.csv'])) \r\n",
        "print(dataset)"
      ],
      "execution_count": 3,
      "outputs": [
        {
          "output_type": "stream",
          "text": [
            "    Age   Income Employee Credit_Rating Buys_Loan\n",
            "0    28  2400000       no          fair        no\n",
            "1    27  2600000       no     excellent        no\n",
            "2    38  2800000       no          fair       yes\n",
            "3    49  1600000       no          fair       yes\n",
            "4    48   800000      yes          fair       yes\n",
            "5    49   900000      yes     excellent        no\n",
            "6    36   600000      yes     excellent       yes\n",
            "7    26  1800000       no          fair        no\n",
            "8    24   700000      yes          fair       yes\n",
            "9    51  1400000      yes          fair       yes\n",
            "10   26  1600000      yes     excellent       yes\n",
            "11   39  1700000       no     excellent       yes\n",
            "12   40  3200000      yes          fair       yes\n",
            "13   50  1600000       no     excellent        no\n"
          ],
          "name": "stdout"
        }
      ]
    },
    {
      "cell_type": "markdown",
      "metadata": {
        "id": "3vTbXJqb4CbX"
      },
      "source": [
        "#Data Preprocessing"
      ]
    },
    {
      "cell_type": "markdown",
      "metadata": {
        "id": "-bud55pb4OqI"
      },
      "source": [
        "Age, Income, Employee, Credit_Rating are the Independent variables</br>\r\n",
        "Buys_Loan is the dependent variable</br>\r\n",
        "Age, Income are Continuous variables and Employee, Credit_Rating, Buys_Loan are Categorical variables</br>\r\n",
        "Employee Status: Yes --> 1; No --> 0</br>\r\n",
        "Credit_Rating:   Fair -->0; Excellent -->1</br>\r\n",
        "Buys_Loan:      Yes --> 1; No --> 0"
      ]
    },
    {
      "cell_type": "code",
      "metadata": {
        "colab": {
          "base_uri": "https://localhost:8080/"
        },
        "id": "UVpiIKkh6Gdl",
        "outputId": "611d62d9-2aad-41e9-db2c-548dce03e543"
      },
      "source": [
        "dataset['Employee'] = dataset['Employee'].replace(['no','yes'],[0,1])\r\n",
        "dataset['Buys_Loan'] = dataset['Buys_Loan'].replace(['no','yes'],[0,1])\r\n",
        "dataset['Credit_Rating'] = dataset['Credit_Rating'].replace(['fair','excellent'],[0,1])\r\n",
        "print(dataset)"
      ],
      "execution_count": 7,
      "outputs": [
        {
          "output_type": "stream",
          "text": [
            "    Age   Income  Employee  Credit_Rating  Buys_Loan\n",
            "0    28  2400000         0              0          0\n",
            "1    27  2600000         0              1          0\n",
            "2    38  2800000         0              0          1\n",
            "3    49  1600000         0              0          1\n",
            "4    48   800000         1              0          1\n",
            "5    49   900000         1              1          0\n",
            "6    36   600000         1              1          1\n",
            "7    26  1800000         0              0          0\n",
            "8    24   700000         1              0          1\n",
            "9    51  1400000         1              0          1\n",
            "10   26  1600000         1              1          1\n",
            "11   39  1700000         0              1          1\n",
            "12   40  3200000         1              0          1\n",
            "13   50  1600000         0              1          0\n"
          ],
          "name": "stdout"
        }
      ]
    },
    {
      "cell_type": "code",
      "metadata": {
        "colab": {
          "base_uri": "https://localhost:8080/"
        },
        "id": "0Vgf5QBf6gt5",
        "outputId": "098db120-dc7b-4d34-ad89-29e449bf78c9"
      },
      "source": [
        "dataset.info()"
      ],
      "execution_count": 12,
      "outputs": [
        {
          "output_type": "stream",
          "text": [
            "<class 'pandas.core.frame.DataFrame'>\n",
            "RangeIndex: 14 entries, 0 to 13\n",
            "Data columns (total 5 columns):\n",
            " #   Column         Non-Null Count  Dtype\n",
            "---  ------         --------------  -----\n",
            " 0   Age            14 non-null     int64\n",
            " 1   Income         14 non-null     int64\n",
            " 2   Employee       14 non-null     int64\n",
            " 3   Credit_Rating  14 non-null     int64\n",
            " 4   Buys_Loan      14 non-null     int64\n",
            "dtypes: int64(5)\n",
            "memory usage: 688.0 bytes\n"
          ],
          "name": "stdout"
        }
      ]
    },
    {
      "cell_type": "code",
      "metadata": {
        "id": "o1rRVBgm73ia"
      },
      "source": [
        "dataset['Buys_Loan']=pd.Categorical(dataset.Buys_Loan)\r\n",
        "dataset['Employee']=pd.Categorical(dataset.Employee)\r\n",
        "dataset['Credit_Rating']=pd.Categorical(dataset.Credit_Rating)"
      ],
      "execution_count": 14,
      "outputs": []
    },
    {
      "cell_type": "code",
      "metadata": {
        "colab": {
          "base_uri": "https://localhost:8080/"
        },
        "id": "K5_nfMxs8XyM",
        "outputId": "796dd825-81dc-4723-d8cb-270b0eee90fa"
      },
      "source": [
        "dataset.info()"
      ],
      "execution_count": 15,
      "outputs": [
        {
          "output_type": "stream",
          "text": [
            "<class 'pandas.core.frame.DataFrame'>\n",
            "RangeIndex: 14 entries, 0 to 13\n",
            "Data columns (total 5 columns):\n",
            " #   Column         Non-Null Count  Dtype   \n",
            "---  ------         --------------  -----   \n",
            " 0   Age            14 non-null     int64   \n",
            " 1   Income         14 non-null     int64   \n",
            " 2   Employee       14 non-null     category\n",
            " 3   Credit_Rating  14 non-null     category\n",
            " 4   Buys_Loan      14 non-null     category\n",
            "dtypes: category(3), int64(2)\n",
            "memory usage: 682.0 bytes\n"
          ],
          "name": "stdout"
        }
      ]
    },
    {
      "cell_type": "code",
      "metadata": {
        "colab": {
          "base_uri": "https://localhost:8080/",
          "height": 300
        },
        "id": "-D47S5ZL7Tlh",
        "outputId": "9d094a2e-b7a5-4bc0-b66c-524931758747"
      },
      "source": [
        "dataset.describe()"
      ],
      "execution_count": 16,
      "outputs": [
        {
          "output_type": "execute_result",
          "data": {
            "text/html": [
              "<div>\n",
              "<style scoped>\n",
              "    .dataframe tbody tr th:only-of-type {\n",
              "        vertical-align: middle;\n",
              "    }\n",
              "\n",
              "    .dataframe tbody tr th {\n",
              "        vertical-align: top;\n",
              "    }\n",
              "\n",
              "    .dataframe thead th {\n",
              "        text-align: right;\n",
              "    }\n",
              "</style>\n",
              "<table border=\"1\" class=\"dataframe\">\n",
              "  <thead>\n",
              "    <tr style=\"text-align: right;\">\n",
              "      <th></th>\n",
              "      <th>Age</th>\n",
              "      <th>Income</th>\n",
              "    </tr>\n",
              "  </thead>\n",
              "  <tbody>\n",
              "    <tr>\n",
              "      <th>count</th>\n",
              "      <td>14.000000</td>\n",
              "      <td>1.400000e+01</td>\n",
              "    </tr>\n",
              "    <tr>\n",
              "      <th>mean</th>\n",
              "      <td>37.928571</td>\n",
              "      <td>1.692857e+06</td>\n",
              "    </tr>\n",
              "    <tr>\n",
              "      <th>std</th>\n",
              "      <td>10.261686</td>\n",
              "      <td>8.109484e+05</td>\n",
              "    </tr>\n",
              "    <tr>\n",
              "      <th>min</th>\n",
              "      <td>24.000000</td>\n",
              "      <td>6.000000e+05</td>\n",
              "    </tr>\n",
              "    <tr>\n",
              "      <th>25%</th>\n",
              "      <td>27.250000</td>\n",
              "      <td>1.025000e+06</td>\n",
              "    </tr>\n",
              "    <tr>\n",
              "      <th>50%</th>\n",
              "      <td>38.500000</td>\n",
              "      <td>1.600000e+06</td>\n",
              "    </tr>\n",
              "    <tr>\n",
              "      <th>75%</th>\n",
              "      <td>48.750000</td>\n",
              "      <td>2.250000e+06</td>\n",
              "    </tr>\n",
              "    <tr>\n",
              "      <th>max</th>\n",
              "      <td>51.000000</td>\n",
              "      <td>3.200000e+06</td>\n",
              "    </tr>\n",
              "  </tbody>\n",
              "</table>\n",
              "</div>"
            ],
            "text/plain": [
              "             Age        Income\n",
              "count  14.000000  1.400000e+01\n",
              "mean   37.928571  1.692857e+06\n",
              "std    10.261686  8.109484e+05\n",
              "min    24.000000  6.000000e+05\n",
              "25%    27.250000  1.025000e+06\n",
              "50%    38.500000  1.600000e+06\n",
              "75%    48.750000  2.250000e+06\n",
              "max    51.000000  3.200000e+06"
            ]
          },
          "metadata": {
            "tags": []
          },
          "execution_count": 16
        }
      ]
    },
    {
      "cell_type": "code",
      "metadata": {
        "colab": {
          "base_uri": "https://localhost:8080/",
          "height": 349
        },
        "id": "I_BLLKDeHYnq",
        "outputId": "ae0ad493-0626-4158-da69-76b7fbc669fc"
      },
      "source": [
        "dataset.hist()"
      ],
      "execution_count": 21,
      "outputs": [
        {
          "output_type": "execute_result",
          "data": {
            "text/plain": [
              "array([[<matplotlib.axes._subplots.AxesSubplot object at 0x7f58aebf1310>,\n",
              "        <matplotlib.axes._subplots.AxesSubplot object at 0x7f58aeb37ed0>]],\n",
              "      dtype=object)"
            ]
          },
          "metadata": {
            "tags": []
          },
          "execution_count": 21
        },
        {
          "output_type": "display_data",
          "data": {
            "image/png": "[encoded data removed]",
            "text/plain": [
              "<Figure size 432x288 with 2 Axes>"
            ]
          },
          "metadata": {
            "tags": [],
            "needs_background": "light"
          }
        }
      ]
    },
    {
      "cell_type": "markdown",
      "metadata": {
        "id": "HZFrKS0gGd4P"
      },
      "source": [
        "#Independent & Dependent Variables"
      ]
    },
    {
      "cell_type": "code",
      "metadata": {
        "id": "b5FWA4arGRih"
      },
      "source": [
        "x=dataset.iloc[:,:4].values\r\n",
        "y=dataset.iloc[:,4:5].values"
      ],
      "execution_count": 18,
      "outputs": []
    },
    {
      "cell_type": "code",
      "metadata": {
        "colab": {
          "base_uri": "https://localhost:8080/"
        },
        "id": "S2qXteqYGzJv",
        "outputId": "c6136058-34d1-454f-f393-7441f4131a68"
      },
      "source": [
        "x"
      ],
      "execution_count": 19,
      "outputs": [
        {
          "output_type": "execute_result",
          "data": {
            "text/plain": [
              "array([[     28, 2400000,       0,       0],\n",
              "       [     27, 2600000,       0,       1],\n",
              "       [     38, 2800000,       0,       0],\n",
              "       [     49, 1600000,       0,       0],\n",
              "       [     48,  800000,       1,       0],\n",
              "       [     49,  900000,       1,       1],\n",
              "       [     36,  600000,       1,       1],\n",
              "       [     26, 1800000,       0,       0],\n",
              "       [     24,  700000,       1,       0],\n",
              "       [     51, 1400000,       1,       0],\n",
              "       [     26, 1600000,       1,       1],\n",
              "       [     39, 1700000,       0,       1],\n",
              "       [     40, 3200000,       1,       0],\n",
              "       [     50, 1600000,       0,       1]])"
            ]
          },
          "metadata": {
            "tags": []
          },
          "execution_count": 19
        }
      ]
    },
    {
      "cell_type": "code",
      "metadata": {
        "colab": {
          "base_uri": "https://localhost:8080/"
        },
        "id": "sDWbp9fxG1S_",
        "outputId": "813f8e5e-7e5f-4e17-ea70-1a0ac13f034f"
      },
      "source": [
        "y"
      ],
      "execution_count": 20,
      "outputs": [
        {
          "output_type": "execute_result",
          "data": {
            "text/plain": [
              "array([[0],\n",
              "       [0],\n",
              "       [1],\n",
              "       [1],\n",
              "       [1],\n",
              "       [0],\n",
              "       [1],\n",
              "       [0],\n",
              "       [1],\n",
              "       [1],\n",
              "       [1],\n",
              "       [1],\n",
              "       [1],\n",
              "       [0]])"
            ]
          },
          "metadata": {
            "tags": []
          },
          "execution_count": 20
        }
      ]
    },
    {
      "cell_type": "markdown",
      "metadata": {
        "id": "a80dGAzYG3ho"
      },
      "source": [
        "#Linear Regression Model"
      ]
    },
    {
      "cell_type": "code",
      "metadata": {
        "colab": {
          "base_uri": "https://localhost:8080/"
        },
        "id": "ysMLMA0JG2v4",
        "outputId": "2bc78cfd-14fa-4c99-e3c4-d29c50f94553"
      },
      "source": [
        "lr_model=LinearRegression().fit(x,y)\r\n",
        "print(\"Slopes/Coefficients:\",lr_model.coef_)\r\n",
        "print(\"Intercept:\",lr_model.intercept_)"
      ],
      "execution_count": 44,
      "outputs": [
        {
          "output_type": "stream",
          "text": [
            "Slopes/Coefficients: [[ 4.49399253e-03  1.30374642e-08  4.27528670e-01 -2.44850857e-01]]\n",
            "Intercept: [0.34150761]\n"
          ],
          "name": "stdout"
        }
      ]
    },
    {
      "cell_type": "markdown",
      "metadata": {
        "id": "nuAP_IzZHHaC"
      },
      "source": [
        "##Actual vs Predicted "
      ]
    },
    {
      "cell_type": "code",
      "metadata": {
        "colab": {
          "base_uri": "https://localhost:8080/"
        },
        "id": "PuIDM_-_HMqI",
        "outputId": "08fbad5a-7803-44ee-f0b0-715e7146cacb"
      },
      "source": [
        "lr_predict=np.append(y,lr_model.predict(x),axis=1)\r\n",
        "print(lr_predict)\r\n",
        "#print(\"Predicted value:\\n\",lr_model.predict(x),'\\n\\nActual value:\\n',y)"
      ],
      "execution_count": 58,
      "outputs": [
        {
          "output_type": "stream",
          "text": [
            "[[0.         0.49862931]\n",
            " [0.         0.25189196]\n",
            " [1.         0.54878422]\n",
            " [1.         0.58257319]\n",
            " [1.         0.99517789]\n",
            " [0.         0.75612477]\n",
            " [1.         0.69379163]\n",
            " [0.         0.48181885]\n",
            " [1.         0.88601832]\n",
            " [1.         1.01648235]\n",
            " [1.         0.66188917]\n",
            " [1.         0.29408615]\n",
            " [1.         0.99051586]\n",
            " [0.         0.34221632]]\n"
          ],
          "name": "stdout"
        }
      ]
    },
    {
      "cell_type": "markdown",
      "metadata": {
        "id": "upbs7kOVPJWv"
      },
      "source": [
        "##Evaluation"
      ]
    },
    {
      "cell_type": "code",
      "metadata": {
        "colab": {
          "base_uri": "https://localhost:8080/"
        },
        "id": "7DYiInlrKyuL",
        "outputId": "cfeedc1f-d2cf-488f-d1e0-92110784e955"
      },
      "source": [
        "print(\"R^2 value:\",lr_model.score(x,y))"
      ],
      "execution_count": 43,
      "outputs": [
        {
          "output_type": "stream",
          "text": [
            "R^2 value: 0.27489917793392693\n"
          ],
          "name": "stdout"
        }
      ]
    },
    {
      "cell_type": "markdown",
      "metadata": {
        "id": "4S7QsERUO3IJ"
      },
      "source": [
        "This model shows low level of correlation. So going with Logistic regression"
      ]
    },
    {
      "cell_type": "markdown",
      "metadata": {
        "id": "SLuGa4cZPPuu"
      },
      "source": [
        "#Logistic Regression"
      ]
    },
    {
      "cell_type": "markdown",
      "metadata": {
        "id": "WvyO1Le3QHNa"
      },
      "source": [
        "##Model 1"
      ]
    },
    {
      "cell_type": "code",
      "metadata": {
        "colab": {
          "base_uri": "https://localhost:8080/"
        },
        "id": "DBdY2UN7PGSv",
        "outputId": "c4ab16e4-fa2a-4f9a-bc12-9bed35b587a1"
      },
      "source": [
        "log_model1=LogisticRegression().fit(x,y)\r\n",
        "print(\"Coefficients:\",log_model1.coef_)\r\n",
        "print(\"Intercept:\",log_model1.intercept_)"
      ],
      "execution_count": 45,
      "outputs": [
        {
          "output_type": "stream",
          "text": [
            "Coefficients: [[ 3.08823644e-10  2.14297518e-07  1.56709490e-11 -3.65010189e-12]]\n",
            "Intercept: [5.94470757e-12]\n"
          ],
          "name": "stdout"
        },
        {
          "output_type": "stream",
          "text": [
            "/usr/local/lib/python3.7/dist-packages/sklearn/utils/validation.py:760: DataConversionWarning: A column-vector y was passed when a 1d array was expected. Please change the shape of y to (n_samples, ), for example using ravel().\n",
            "  y = column_or_1d(y, warn=True)\n"
          ],
          "name": "stderr"
        }
      ]
    },
    {
      "cell_type": "markdown",
      "metadata": {
        "id": "dmE61XVYQYRQ"
      },
      "source": [
        "###Probability of prediction"
      ]
    },
    {
      "cell_type": "code",
      "metadata": {
        "colab": {
          "base_uri": "https://localhost:8080/"
        },
        "id": "wcGiedX1QT6I",
        "outputId": "812c5f5e-a711-41eb-b7df-b89ae756b219"
      },
      "source": [
        "log_model1.predict_proba(x)"
      ],
      "execution_count": 47,
      "outputs": [
        {
          "output_type": "execute_result",
          "data": {
            "text/plain": [
              "array([[0.37418276, 0.62581724],\n",
              "       [0.3642017 , 0.6357983 ],\n",
              "       [0.35433613, 0.64566387],\n",
              "       [0.41511102, 0.58488898],\n",
              "       [0.45724516, 0.54275484],\n",
              "       [0.45193197, 0.54806803],\n",
              "       [0.46789958, 0.53210042],\n",
              "       [0.4047443 , 0.5952557 ],\n",
              "       [0.4625681 , 0.5374319 ],\n",
              "       [0.42555344, 0.57444656],\n",
              "       [0.41511102, 0.58488898],\n",
              "       [0.40991766, 0.59008234],\n",
              "       [0.33497871, 0.66502129],\n",
              "       [0.41511102, 0.58488898]])"
            ]
          },
          "metadata": {
            "tags": []
          },
          "execution_count": 47
        }
      ]
    },
    {
      "cell_type": "markdown",
      "metadata": {
        "id": "A8zWTojTQ3Dj"
      },
      "source": [
        "###Actual vs Predicted"
      ]
    },
    {
      "cell_type": "code",
      "metadata": {
        "colab": {
          "base_uri": "https://localhost:8080/"
        },
        "id": "xmBSJtEQQ-gT",
        "outputId": "8183219d-c03d-4e9f-c503-cd7a8d903306"
      },
      "source": [
        "log_pred_y=np.reshape(log_model1.predict(x),(len(y),1))\r\n",
        "log_model1_predict=np.append(y,log_pred_y,axis=1)\r\n",
        "print(log_model1_predict)"
      ],
      "execution_count": 64,
      "outputs": [
        {
          "output_type": "stream",
          "text": [
            "[[0 1]\n",
            " [0 1]\n",
            " [1 1]\n",
            " [1 1]\n",
            " [1 1]\n",
            " [0 1]\n",
            " [1 1]\n",
            " [0 1]\n",
            " [1 1]\n",
            " [1 1]\n",
            " [1 1]\n",
            " [1 1]\n",
            " [1 1]\n",
            " [0 1]]\n"
          ],
          "name": "stdout"
        }
      ]
    },
    {
      "cell_type": "markdown",
      "metadata": {
        "id": "n0z1knIHVTDI"
      },
      "source": [
        "###Evaluating Loigistic Regression Model1"
      ]
    },
    {
      "cell_type": "code",
      "metadata": {
        "colab": {
          "base_uri": "https://localhost:8080/"
        },
        "id": "tSUuscWZVavv",
        "outputId": "fa547b6d-5550-48ec-f7ec-e2b02882a255"
      },
      "source": [
        "print(\"R^2 value:\",log_model1.score(x,y))"
      ],
      "execution_count": 65,
      "outputs": [
        {
          "output_type": "stream",
          "text": [
            "R^2 value: 0.6428571428571429\n"
          ],
          "name": "stdout"
        }
      ]
    },
    {
      "cell_type": "markdown",
      "metadata": {
        "id": "Jf8waK2WV42g"
      },
      "source": [
        "####Confusion Matrix"
      ]
    },
    {
      "cell_type": "code",
      "metadata": {
        "colab": {
          "base_uri": "https://localhost:8080/",
          "height": 483
        },
        "id": "doQCZBPoV71o",
        "outputId": "9e66988e-1bc6-4228-ef24-cc5554b2001d"
      },
      "source": [
        "cm = confusion_matrix(y, log_model1.predict(x))\r\n",
        "\r\n",
        "fig, ax = plt.subplots(figsize=(8, 8))\r\n",
        "ax.imshow(cm)\r\n",
        "ax.grid(False)\r\n",
        "ax.xaxis.set(ticks=(0, 1), ticklabels=('Predicted 0s', 'Predicted 1s'))\r\n",
        "ax.yaxis.set(ticks=(0, 1), ticklabels=('Actual 0s', 'Actual 1s'))\r\n",
        "ax.set_ylim(1.5, -0.5)\r\n",
        "for i in range(2):\r\n",
        "    for j in range(2):\r\n",
        "        ax.text(j, i, cm[i, j], ha='center', va='center', color='red')\r\n",
        "plt.show()\r\n"
      ],
      "execution_count": 73,
      "outputs": [
        {
          "output_type": "display_data",
          "data": {
            "image/png": "[encoded data removed]",
            "text/plain": [
              "<Figure size 576x576 with 1 Axes>"
            ]
          },
          "metadata": {
            "tags": [],
            "needs_background": "light"
          }
        }
      ]
    },
    {
      "cell_type": "markdown",
      "metadata": {
        "id": "Tt-Y-FQ-WDKh"
      },
      "source": [
        "####Classification Report"
      ]
    },
    {
      "cell_type": "code",
      "metadata": {
        "colab": {
          "base_uri": "https://localhost:8080/"
        },
        "id": "Bk2SbI_ZWIv6",
        "outputId": "1e09a6fe-81d3-4f53-d273-a930ff09f571"
      },
      "source": [
        "print(classification_report(y, log_model1.predict(x)))"
      ],
      "execution_count": 67,
      "outputs": [
        {
          "output_type": "stream",
          "text": [
            "              precision    recall  f1-score   support\n",
            "\n",
            "           0       0.00      0.00      0.00         5\n",
            "           1       0.64      1.00      0.78         9\n",
            "\n",
            "    accuracy                           0.64        14\n",
            "   macro avg       0.32      0.50      0.39        14\n",
            "weighted avg       0.41      0.64      0.50        14\n",
            "\n"
          ],
          "name": "stdout"
        },
        {
          "output_type": "stream",
          "text": [
            "/usr/local/lib/python3.7/dist-packages/sklearn/metrics/_classification.py:1272: UndefinedMetricWarning: Precision and F-score are ill-defined and being set to 0.0 in labels with no predicted samples. Use `zero_division` parameter to control this behavior.\n",
            "  _warn_prf(average, modifier, msg_start, len(result))\n"
          ],
          "name": "stderr"
        }
      ]
    },
    {
      "cell_type": "markdown",
      "metadata": {
        "id": "h_DOZeN_Vkx_"
      },
      "source": [
        "###Note: </br>0.64 or 64% Accuracy is a fair. Let us try the same with different solver to increase the score."
      ]
    },
    {
      "cell_type": "markdown",
      "metadata": {
        "id": "Wez45Oo6Wc0T"
      },
      "source": [
        "##Model 2"
      ]
    },
    {
      "cell_type": "code",
      "metadata": {
        "colab": {
          "base_uri": "https://localhost:8080/"
        },
        "id": "Czgok6KQWkpJ",
        "outputId": "ad8595a1-1ca1-4b7f-c809-55e4e5657c6d"
      },
      "source": [
        "log_model2= LogisticRegression(solver='newton-cg', multi_class='multinomial',random_state=0,fit_intercept =True,dual=False,penalty ='none').fit(x,y)\r\n",
        "print(\"Coefficients:\",log_model2.coef_)\r\n",
        "print(\"Intercept:\",log_model2.intercept_)"
      ],
      "execution_count": 68,
      "outputs": [
        {
          "output_type": "stream",
          "text": [
            "Coefficients: [[ 1.86209941e-02  1.47354082e-07  1.28214823e+00 -7.20418614e-01]]\n",
            "Intercept: [-0.84441821]\n"
          ],
          "name": "stdout"
        },
        {
          "output_type": "stream",
          "text": [
            "/usr/local/lib/python3.7/dist-packages/sklearn/utils/validation.py:760: DataConversionWarning: A column-vector y was passed when a 1d array was expected. Please change the shape of y to (n_samples, ), for example using ravel().\n",
            "  y = column_or_1d(y, warn=True)\n",
            "/usr/local/lib/python3.7/dist-packages/scipy/optimize/linesearch.py:466: LineSearchWarning: The line search algorithm did not converge\n",
            "  warn('The line search algorithm did not converge', LineSearchWarning)\n",
            "/usr/local/lib/python3.7/dist-packages/scipy/optimize/linesearch.py:314: LineSearchWarning: The line search algorithm did not converge\n",
            "  warn('The line search algorithm did not converge', LineSearchWarning)\n",
            "/usr/local/lib/python3.7/dist-packages/sklearn/utils/optimize.py:212: ConvergenceWarning: newton-cg failed to converge. Increase the number of iterations.\n",
            "  \"number of iterations.\", ConvergenceWarning)\n"
          ],
          "name": "stderr"
        }
      ]
    },
    {
      "cell_type": "markdown",
      "metadata": {
        "id": "SkKnyNWYXxkf"
      },
      "source": [
        "###Probability of Prediction"
      ]
    },
    {
      "cell_type": "code",
      "metadata": {
        "colab": {
          "base_uri": "https://localhost:8080/"
        },
        "id": "iSBKVubYX159",
        "outputId": "0226acc9-1c04-40fd-bbf1-e954bc8275b1"
      },
      "source": [
        "log_model2.predict_proba(x)"
      ],
      "execution_count": 69,
      "outputs": [
        {
          "output_type": "execute_result",
          "data": {
            "text/plain": [
              "array([[0.48469507, 0.51530493],\n",
              "       [0.79541798, 0.20458202],\n",
              "       [0.36550673, 0.63449327],\n",
              "       [0.35261735, 0.64738265],\n",
              "       [0.05221084, 0.94778916],\n",
              "       [0.17876788, 0.82123212],\n",
              "       [0.27845078, 0.72154922],\n",
              "       [0.54737497, 0.45262503],\n",
              "       [0.12179257, 0.87820743],\n",
              "       [0.03964292, 0.96035708],\n",
              "       [0.2943297 , 0.7056703 ],\n",
              "       [0.76426967, 0.23573033],\n",
              "       [0.03529076, 0.96470924],\n",
              "       [0.68912701, 0.31087299]])"
            ]
          },
          "metadata": {
            "tags": []
          },
          "execution_count": 69
        }
      ]
    },
    {
      "cell_type": "markdown",
      "metadata": {
        "id": "umyWTJlcX7_p"
      },
      "source": [
        "###Actual vs Predicted"
      ]
    },
    {
      "cell_type": "code",
      "metadata": {
        "colab": {
          "base_uri": "https://localhost:8080/"
        },
        "id": "ZhNdjETAYCmN",
        "outputId": "690b4fe7-b377-4b97-efe3-a912f61c164f"
      },
      "source": [
        "log_pred_y2=np.reshape(log_model2.predict(x),(len(y),1))\r\n",
        "log_model2_predict=np.append(y,log_pred_y2,axis=1)\r\n",
        "print(log_model2_predict)"
      ],
      "execution_count": 71,
      "outputs": [
        {
          "output_type": "stream",
          "text": [
            "[[0 1]\n",
            " [0 0]\n",
            " [1 1]\n",
            " [1 1]\n",
            " [1 1]\n",
            " [0 1]\n",
            " [1 1]\n",
            " [0 0]\n",
            " [1 1]\n",
            " [1 1]\n",
            " [1 1]\n",
            " [1 0]\n",
            " [1 1]\n",
            " [0 0]]\n"
          ],
          "name": "stdout"
        }
      ]
    },
    {
      "cell_type": "markdown",
      "metadata": {
        "id": "imU4XKlmYbAG"
      },
      "source": [
        "###Evaluating Logistic Regression Model2"
      ]
    },
    {
      "cell_type": "code",
      "metadata": {
        "colab": {
          "base_uri": "https://localhost:8080/"
        },
        "id": "yu8hzQQ4Yg1-",
        "outputId": "8b4d0ae9-132d-4dcd-f109-5c2d5de22647"
      },
      "source": [
        "print(\"R^2 value:\",log_model2.score(x,y))"
      ],
      "execution_count": 72,
      "outputs": [
        {
          "output_type": "stream",
          "text": [
            "R^2 value: 0.7857142857142857\n"
          ],
          "name": "stdout"
        }
      ]
    },
    {
      "cell_type": "markdown",
      "metadata": {
        "id": "jSsxWt5vY1xA"
      },
      "source": [
        "####Confusion Matrix"
      ]
    },
    {
      "cell_type": "code",
      "metadata": {
        "colab": {
          "base_uri": "https://localhost:8080/",
          "height": 483
        },
        "id": "5_UJx4gGZCEB",
        "outputId": "2e750da8-85e6-40a1-d103-33f4315e29a0"
      },
      "source": [
        "cm = confusion_matrix(y, log_model2.predict(x))\r\n",
        "\r\n",
        "fig, ax = plt.subplots(figsize=(8, 8))\r\n",
        "ax.imshow(cm)\r\n",
        "ax.grid(False)\r\n",
        "ax.xaxis.set(ticks=(0, 1), ticklabels=('Predicted 0s', 'Predicted 1s'))\r\n",
        "ax.yaxis.set(ticks=(0, 1), ticklabels=('Actual 0s', 'Actual 1s'))\r\n",
        "ax.set_ylim(1.5, -0.5)\r\n",
        "for i in range(2):\r\n",
        "    for j in range(2):\r\n",
        "        ax.text(j, i, cm[i, j], ha='center', va='center', color='red')\r\n",
        "plt.show()\r\n"
      ],
      "execution_count": 74,
      "outputs": [
        {
          "output_type": "display_data",
          "data": {
            "image/png": "[encoded data removed]",
            "text/plain": [
              "<Figure size 576x576 with 1 Axes>"
            ]
          },
          "metadata": {
            "tags": [],
            "needs_background": "light"
          }
        }
      ]
    },
    {
      "cell_type": "markdown",
      "metadata": {
        "id": "5EltQvclZwd5"
      },
      "source": [
        "####Classification Report"
      ]
    },
    {
      "cell_type": "code",
      "metadata": {
        "colab": {
          "base_uri": "https://localhost:8080/"
        },
        "id": "_ec5_6JaZNRo",
        "outputId": "b900a5a2-b6c0-47cb-94b9-17bd6a947804"
      },
      "source": [
        "print(classification_report(y, log_model2.predict(x)))"
      ],
      "execution_count": 75,
      "outputs": [
        {
          "output_type": "stream",
          "text": [
            "              precision    recall  f1-score   support\n",
            "\n",
            "           0       0.75      0.60      0.67         5\n",
            "           1       0.80      0.89      0.84         9\n",
            "\n",
            "    accuracy                           0.79        14\n",
            "   macro avg       0.78      0.74      0.75        14\n",
            "weighted avg       0.78      0.79      0.78        14\n",
            "\n"
          ],
          "name": "stdout"
        }
      ]
    },
    {
      "cell_type": "markdown",
      "metadata": {
        "id": "PpbVZedAZgMK"
      },
      "source": [
        "###Note:</br>Model2 gives 0.79 or 79% Accuracy. Better compared to Model1\r\n",
        "\r\n",
        "*   By using newton-cg solver and multi class as multinomial, we attain better accuracy. \r\n",
        "*   In newton-cg solver the inputs are normalized(l2 normalization).\r\n",
        "\r\n"
      ]
    },
    {
      "cell_type": "markdown",
      "metadata": {
        "id": "LrZoqrvaalx8"
      },
      "source": [
        "#Choosing Model for predicting new customer"
      ]
    },
    {
      "cell_type": "markdown",
      "metadata": {
        "id": "lwllMCysa7IW"
      },
      "source": [
        "Linear Regression Model--> 0.27</br>\r\n",
        "Logistic Regression Model1--> 0.64</br>\r\n",
        "**Logistic Regression Model2 --> 0.78**</br>\r\n",
        "Wise to choose Logistic Regression Model2 to predict whether the customer buy the product or not.\r\n"
      ]
    },
    {
      "cell_type": "markdown",
      "metadata": {
        "id": "jV8lnrDzcObR"
      },
      "source": [
        "#Prediction"
      ]
    },
    {
      "cell_type": "code",
      "metadata": {
        "colab": {
          "base_uri": "https://localhost:8080/"
        },
        "id": "K_JAcZ4kanuc",
        "outputId": "81eaa5b9-7574-4263-900a-83454864ba1b"
      },
      "source": [
        "#Age=25; Income=1500000; Employee=1(yes); Credit_Rating=0(fair) --> 25,1500000,1,0\r\n",
        "new_x=[[25,1500000,1,0]]\r\n",
        "print(log_model2.predict(new_x))\r\n",
        "print(log_model2.predict_proba(new_x))"
      ],
      "execution_count": 77,
      "outputs": [
        {
          "output_type": "stream",
          "text": [
            "[1]\n",
            "[[0.09547271 0.90452729]]\n"
          ],
          "name": "stdout"
        }
      ]
    },
    {
      "cell_type": "markdown",
      "metadata": {
        "id": "WmqskeZ_dF2l"
      },
      "source": [
        " **1 implies customer would take up the loan.</br>\r\n",
        "Model states the probability of that customer to take up loan is 90.45%.**"
      ]
    }
  ]
}